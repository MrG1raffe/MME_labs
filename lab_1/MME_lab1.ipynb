{
 "cells": [
  {
   "cell_type": "code",
   "execution_count": 124,
   "metadata": {},
   "outputs": [],
   "source": [
    "import numpy as np\n",
    "import pandas as pd"
   ]
  },
  {
   "cell_type": "code",
   "execution_count": 255,
   "metadata": {},
   "outputs": [],
   "source": [
    "sheet_names = ['A1985', 'A1986', 'A1987', 'A1988', 'A1989', 'A1990', 'w']\n",
    "years = [str(1985 + i) for i in range(0, 6)]\n",
    "data = pd.read_excel(\"full_table.xlsx\", sheet_name = sheet_names)\n",
    "table = {}\n",
    "for name in sheet_names:\n",
    "    table[name] = data[name].values\n",
    "\n",
    "for i in range(1985, 1991):\n",
    "    s = 'w' + str(i)\n",
    "    table[s] = table['w'][:, i - 1985]"
   ]
  },
  {
   "cell_type": "code",
   "execution_count": 256,
   "metadata": {},
   "outputs": [],
   "source": [
    "def is_productive(A, w): # returns [x, Ax, Ax + w, is_product]\n",
    "    x = np.linalg.inv(np.eye(A.shape[0]) - A) @ w\n",
    "    return [x, A @ x, A @ x + w, np.all(x >= 0)]"
   ]
  },
  {
   "cell_type": "code",
   "execution_count": 257,
   "metadata": {},
   "outputs": [],
   "source": [
    "def perron_frobenius(A): # returns [lam, xA] - Perron-Frobenius eigenvalue and eigenvector\n",
    "    r = np.random.rand(A.shape[0])\n",
    "    r_old = r / np.linalg.norm(r)\n",
    "    dif = 1\n",
    "    it = 0\n",
    "    while np.linalg.norm(dif) > 0.00001:\n",
    "        it += 1\n",
    "        r = A @ r / (np.linalg.norm(A @ r))\n",
    "        dif = r - r_old\n",
    "        r_old = r\n",
    "        lam = r @ A @ r\n",
    "    #print('Algorithm converged in', it, 'iterations.')\n",
    "    return [lam, r]"
   ]
  },
  {
   "cell_type": "code",
   "execution_count": 354,
   "metadata": {},
   "outputs": [],
   "source": [
    "def delete_sectors(A, to_del):\n",
    "    to_del_c = list({i for i in range(0, A.shape[0])}.difference(set(to_del)))\n",
    "    A22 = A[:, to_del][to_del]\n",
    "    A11 = A[:, to_del_c][to_del_c]\n",
    "    A12 = A[:, to_del][to_del_c]\n",
    "    A21 = A[:, to_del_c][to_del]\n",
    "    B = A11 + A12 @ np.linalg.inv(np.eye(A22.shape[0]) - A22) @ A21\n",
    "    return B"
   ]
  },
  {
   "cell_type": "code",
   "execution_count": 387,
   "metadata": {},
   "outputs": [],
   "source": [
    "def aggregate(A, w, to_aggr):\n",
    "    n = to_aggr.shape[0]\n",
    "    B = np.zeros((n, n))\n",
    "    x = np.linalg.inv(np.eye(A.shape[0]) - A) @ w\n",
    "    for i in range(0, n):\n",
    "        for j in range(0, n):\n",
    "            B[i][j] = (A[:, to_aggr[j]][to_aggr[i]] @ x[to_aggr[j]]).sum() / (x[to_aggr[j]].sum())\n",
    "    return B"
   ]
  },
  {
   "cell_type": "code",
   "execution_count": 350,
   "metadata": {},
   "outputs": [
    {
     "name": "stdout",
     "output_type": "stream",
     "text": [
      "[1] [0, 2]\n"
     ]
    },
    {
     "data": {
      "text/plain": [
       "array([[ 0.   , -1.333],\n",
       "       [-1.   , -3.667]])"
      ]
     },
     "execution_count": 350,
     "metadata": {},
     "output_type": "execute_result"
    }
   ],
   "source": [
    "A = np.array([[2, 2, 2], [3, 4, 5], [6, 7, 8]])\n",
    "delete_sectors(A, [1])\n"
   ]
  },
  {
   "cell_type": "code",
   "execution_count": 349,
   "metadata": {},
   "outputs": [
    {
     "data": {
      "text/plain": [
       "array([[2, 2, 2],\n",
       "       [3, 4, 5],\n",
       "       [6, 7, 8]])"
      ]
     },
     "execution_count": 349,
     "metadata": {},
     "output_type": "execute_result"
    }
   ],
   "source": [
    "A"
   ]
  },
  {
   "cell_type": "code",
   "execution_count": 258,
   "metadata": {},
   "outputs": [],
   "source": [
    "df = pd.DataFrame({\n",
    "    'Productive': np.zeros(6),\n",
    "    'PF_eigenvalue': np.zeros(6)},\n",
    "    index=years)"
   ]
  },
  {
   "cell_type": "code",
   "execution_count": 259,
   "metadata": {},
   "outputs": [
    {
     "data": {
      "text/html": [
       "<div>\n",
       "<style scoped>\n",
       "    .dataframe tbody tr th:only-of-type {\n",
       "        vertical-align: middle;\n",
       "    }\n",
       "\n",
       "    .dataframe tbody tr th {\n",
       "        vertical-align: top;\n",
       "    }\n",
       "\n",
       "    .dataframe thead th {\n",
       "        text-align: right;\n",
       "    }\n",
       "</style>\n",
       "<table border=\"1\" class=\"dataframe\">\n",
       "  <thead>\n",
       "    <tr style=\"text-align: right;\">\n",
       "      <th></th>\n",
       "      <th>Productive</th>\n",
       "      <th>PF_eigenvalue</th>\n",
       "    </tr>\n",
       "  </thead>\n",
       "  <tbody>\n",
       "    <tr>\n",
       "      <th>1985</th>\n",
       "      <td>True</td>\n",
       "      <td>0.550485</td>\n",
       "    </tr>\n",
       "    <tr>\n",
       "      <th>1986</th>\n",
       "      <td>True</td>\n",
       "      <td>0.551078</td>\n",
       "    </tr>\n",
       "    <tr>\n",
       "      <th>1987</th>\n",
       "      <td>True</td>\n",
       "      <td>0.543420</td>\n",
       "    </tr>\n",
       "    <tr>\n",
       "      <th>1988</th>\n",
       "      <td>True</td>\n",
       "      <td>0.536549</td>\n",
       "    </tr>\n",
       "    <tr>\n",
       "      <th>1989</th>\n",
       "      <td>True</td>\n",
       "      <td>0.533277</td>\n",
       "    </tr>\n",
       "    <tr>\n",
       "      <th>1990</th>\n",
       "      <td>True</td>\n",
       "      <td>0.538223</td>\n",
       "    </tr>\n",
       "  </tbody>\n",
       "</table>\n",
       "</div>"
      ],
      "text/plain": [
       "     Productive  PF_eigenvalue\n",
       "1985       True       0.550485\n",
       "1986       True       0.551078\n",
       "1987       True       0.543420\n",
       "1988       True       0.536549\n",
       "1989       True       0.533277\n",
       "1990       True       0.538223"
      ]
     },
     "execution_count": 259,
     "metadata": {},
     "output_type": "execute_result"
    }
   ],
   "source": [
    "for year in years:\n",
    "    res = is_productive(table['A' + year], table['w' + year])\n",
    "    fp = perron_frobenius(table['A' + year])\n",
    "    table['x' + year] = res[0]\n",
    "    table['fp' + year] = fp[1]\n",
    "    df.loc[year, 'Productive'] = res[3]\n",
    "    df.loc[year, 'PF_eigenvalue'] = fp[0]\n",
    "df"
   ]
  },
  {
   "cell_type": "code",
   "execution_count": 275,
   "metadata": {},
   "outputs": [
    {
     "name": "stdout",
     "output_type": "stream",
     "text": [
      "X = \n",
      " [[ 58129.03  59896.06  62723.26  63517.06  63916.66  67472.43]\n",
      " [142528.65 144400.97 145490.58 147039.85 145662.51 149868.89]\n",
      " [ 33282.24  34243.59  31247.45  31854.41  31118.2   31574.13]\n",
      " [  1091.06   1211.91   1115.92   1180.93   1144.07   1098.26]\n",
      " [102392.92 105769.88 105855.29 107269.87 106469.32 104340.32]\n",
      " [ 83419.63  85632.87  88206.07  89590.39  94240.2  113408.56]\n",
      " [118115.11 125119.46 123221.01 129845.99 133362.64 134430.58]\n",
      " [303592.63 318757.33 334312.83 344057.   351097.15 341339.62]\n",
      " [ 72369.16  75461.1   74718.69  76037.48  78668.9   79684.15]\n",
      " [ 61198.58  64884.77  63911.74  65058.29  67300.15  66347.39]\n",
      " [190058.51 192665.11 185663.84 189717.84 194848.9  196675.88]\n",
      " [157348.4  156674.27 162540.21 168299.32 179999.66 192151.53]\n",
      " [ 42361.05  44488.3   46534.11  48676.68  52596.84  59584.77]\n",
      " [ 82269.    91224.    96327.   103787.   107206.   108425.  ]\n",
      " [263487.54 280862.6  289167.64 333268.35 344325.54 373789.12]\n",
      " [144041.79 150413.47 147826.38 156982.57 149615.51 172248.67]\n",
      " [ 78918.85  81830.75  82523.52  88145.76  95597.81 106731.33]\n",
      " [ 10132.87  10467.16  10569.04  12392.87  15884.08  22306.54]]\n",
      "\n",
      "Perron-Frobenius vectors:\n",
      " [[0.1285 0.1207 0.1417 0.1396 0.1385 0.1464]\n",
      " [0.3264 0.3001 0.3394 0.3366 0.3258 0.3171]\n",
      " [0.1008 0.0931 0.0944 0.0936 0.0925 0.091 ]\n",
      " [0.0022 0.0022 0.0026 0.0026 0.0024 0.0021]\n",
      " [0.1711 0.1554 0.1832 0.1814 0.1737 0.1633]\n",
      " [0.2687 0.2429 0.306  0.305  0.344  0.655 ]\n",
      " [0.2624 0.2646 0.2785 0.2749 0.2721 0.215 ]\n",
      " [0.2449 0.2349 0.2874 0.2815 0.2748 0.2308]\n",
      " [0.0944 0.0902 0.1007 0.0958 0.0941 0.0806]\n",
      " [0.0231 0.0222 0.0297 0.0293 0.0288 0.026 ]\n",
      " [0.677  0.7092 0.5913 0.5884 0.5951 0.3773]\n",
      " [0.063  0.0655 0.0757 0.0678 0.0661 0.0475]\n",
      " [0.0465 0.0466 0.06   0.0563 0.0563 0.0444]\n",
      " [0.     0.     0.     0.     0.     0.    ]\n",
      " [0.2226 0.2334 0.2771 0.2812 0.2726 0.1779]\n",
      " [0.3057 0.292  0.3175 0.3364 0.3134 0.3351]\n",
      " [0.139  0.1427 0.144  0.1454 0.1543 0.1281]\n",
      " [0.0136 0.0126 0.0134 0.0144 0.0181 0.0193]]\n"
     ]
    }
   ],
   "source": [
    "X = np.zeros((18, 6))\n",
    "X_fp = np.zeros((18, 6))\n",
    "for year in years:\n",
    "    X[:, int(year) - 1985] = table['x' + year]\n",
    "    X_fp[:, int(year) - 1985] = table['fp' + year]\n",
    "\n",
    "%precision 2\n",
    "print('X = \\n', X)\n",
    "\n",
    "%precision 4\n",
    "print('\\nPerron-Frobenius vectors:\\n', X_fp)"
   ]
  },
  {
   "cell_type": "code",
   "execution_count": 433,
   "metadata": {},
   "outputs": [
    {
     "data": {
      "text/plain": [
       "(15, 15)"
      ]
     },
     "execution_count": 433,
     "metadata": {},
     "output_type": "execute_result"
    }
   ],
   "source": [
    "%precision 3\n",
    "A = table['A1985']\n",
    "to_del = [12, 13, 17]\n",
    "to_del_c = list({i for i in range(0, A.shape[0])}.difference(set(to_del)))\n",
    "\n",
    "A_del = delete_sectors(A, to_del)\n",
    "A_del.shape"
   ]
  },
  {
   "cell_type": "code",
   "execution_count": 436,
   "metadata": {},
   "outputs": [
    {
     "data": {
      "text/plain": [
       "array([-1.819e-12,  0.000e+00,  0.000e+00,  0.000e+00,  0.000e+00,\n",
       "        9.095e-13, -3.638e-12,  3.638e-12,  3.638e-12,  0.000e+00,\n",
       "        0.000e+00,  0.000e+00,  5.821e-11, -7.276e-12,  1.455e-11])"
      ]
     },
     "execution_count": 436,
     "metadata": {},
     "output_type": "execute_result"
    }
   ],
   "source": [
    "# sector deletion\n",
    "w = table['w1985']\n",
    "w[to_del] = 0\n",
    "x = np.linalg.inv(np.eye(A.shape[0]) - A) @ w\n",
    "x_del = x[to_del_c]\n",
    "w_del = w[to_del_c]\n",
    "\n",
    "# check after deletion\n",
    "x_del - A_del @ x_del - w_del"
   ]
  },
  {
   "cell_type": "code",
   "execution_count": 437,
   "metadata": {},
   "outputs": [
    {
     "data": {
      "text/plain": [
       "array([[0.294, 0.076, 0.032],\n",
       "       [0.027, 0.427, 0.05 ],\n",
       "       [0.168, 0.116, 0.468]])"
      ]
     },
     "execution_count": 437,
     "metadata": {},
     "output_type": "execute_result"
    }
   ],
   "source": [
    "# aggregation\n",
    "to_aggr = np.array([[0, 1, 2, 3], [4, 5, 6, 7], [8, 9, 10, 11, 12, 13, 14]])\n",
    "A_aggr = aggregate(A_del, w_del, to_aggr)\n",
    "A_aggr"
   ]
  },
  {
   "cell_type": "code",
   "execution_count": 438,
   "metadata": {},
   "outputs": [
    {
     "data": {
      "text/plain": [
       "array([-7.276e-12, -7.276e-12, -1.164e-10])"
      ]
     },
     "execution_count": 438,
     "metadata": {},
     "output_type": "execute_result"
    }
   ],
   "source": [
    "# aggregation check\n",
    "w_new = np.array([w_del[to_aggr[i]].sum() for i in range(0, to_aggr.shape[0])])\n",
    "x_new = np.linalg.inv(np.eye(A_aggr.shape[0]) - A_aggr) @ w_new\n",
    "x_new_sum = np.array([x_del[to_aggr[i]].sum() for i in range(0, to_aggr.shape[0])])\n",
    "x_new - x_new_sum"
   ]
  }
 ],
 "metadata": {
  "kernelspec": {
   "display_name": "Python 3",
   "language": "python",
   "name": "python3"
  },
  "language_info": {
   "codemirror_mode": {
    "name": "ipython",
    "version": 3
   },
   "file_extension": ".py",
   "mimetype": "text/x-python",
   "name": "python",
   "nbconvert_exporter": "python",
   "pygments_lexer": "ipython3",
   "version": "3.7.3"
  }
 },
 "nbformat": 4,
 "nbformat_minor": 2
}
